{
 "cells": [
  {
   "cell_type": "markdown",
   "id": "c88712b1",
   "metadata": {},
   "source": [
    "# Applied Data Science Capstone Project"
   ]
  },
  {
   "cell_type": "markdown",
   "id": "ef38447b",
   "metadata": {},
   "source": [
    "## Examining Conditions To Open A Specific Restaurant In Hamburg, Germany!"
   ]
  },
  {
   "cell_type": "markdown",
   "id": "d7828d3b",
   "metadata": {},
   "source": [
    "### 1 Outlining"
   ]
  },
  {
   "cell_type": "markdown",
   "id": "62db2ce4",
   "metadata": {},
   "source": [
    "### 1.1 Introduction\n"
   ]
  },
  {
   "cell_type": "markdown",
   "id": "48fae1ec",
   "metadata": {},
   "source": [
    "After Berlin Hamburg is the largest city in Germany and largest non-capital city in the European Union with almost <b>1.9 million inhabitants</b>. It is known for it is long rich history dating back more than 1,000 years, famous architecture (e.g. Elbphilharmonie, UNESCO awarded Speicherstadt etc.) and it is famous night life, like the Reeperbahn. Furthermore Hamburg is very diverse. On the one hand there are in comparison poor boroughs with small income and high unemployment rate while some boroughs are extraordinary wealthy. The true potential lies in the density of the city. With <b>2,453 people per square meter</b> and more than <b>300,000 commuters</b> every day it has potential customers that their belly want to be filled on a regular basis. The exciting part for a data scientist is to analyze with Foursquare the ideal location within Hamburg and what kind of cuisine should be offered when the restaurant is opening.\n",
    "\n",
    "### 1.2 Business Problem/ Approach\n",
    "\n",
    "Next to the cuisine skills all economic options should be considered when opening a restaurant. The lack of information regarding the location, competitors in the neighborhood and appeal of them can be reduced by using the Foursquare API. An similiar known approach like New York City and Toronto will be chosen for the destination Hamburg, Germany. After extracting the data for Hamburg from Foursquare an examination will be done as follows:\n",
    "\n",
    "    1. What is a suitable location?\n",
    "    2. What kind of cuisine should be offered?\n",
    "    3. What are necessary informations about the chosen location?\n",
    "    \n",
    "In the end a summary will give a recommendation of a location and cuisine style (e.g. Afghan, Asian, Italian etc.)."
   ]
  },
  {
   "cell_type": "markdown",
   "id": "03b52266",
   "metadata": {},
   "source": [
    "### 2 Data Source\n",
    "\n",
    "First of all a dataset of Hamburg will be built which provides information on boroughs, neighborhoods and corresponding data. After that the Foursquare API will be used to analyze the situation in each borough and neighborhood. A conclusion where the findings of the created data will be provided. "
   ]
  },
  {
   "cell_type": "code",
   "execution_count": null,
   "id": "3d747a3c",
   "metadata": {},
   "outputs": [],
   "source": []
  }
 ],
 "metadata": {
  "kernelspec": {
   "display_name": "Python 3",
   "language": "python",
   "name": "python3"
  },
  "language_info": {
   "codemirror_mode": {
    "name": "ipython",
    "version": 3
   },
   "file_extension": ".py",
   "mimetype": "text/x-python",
   "name": "python",
   "nbconvert_exporter": "python",
   "pygments_lexer": "ipython3",
   "version": "3.8.8"
  }
 },
 "nbformat": 4,
 "nbformat_minor": 5
}
