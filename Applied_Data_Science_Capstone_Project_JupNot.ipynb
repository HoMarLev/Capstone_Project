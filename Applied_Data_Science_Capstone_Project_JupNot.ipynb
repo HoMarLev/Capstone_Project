{
 "cells": [
  {
   "cell_type": "markdown",
   "id": "afa57207",
   "metadata": {},
   "source": [
    "### Applied Data Science Capstone Project"
   ]
  },
  {
   "cell_type": "markdown",
   "id": "b870d065",
   "metadata": {},
   "source": [
    "In this notebook I will tackle the task of the capstone project on Courseras IBM Data Scienctist Certificate."
   ]
  },
  {
   "cell_type": "markdown",
   "id": "328ab4f6",
   "metadata": {},
   "source": [
    "The following tasks are expected:\n",
    "    Now, start a Jupyter Notebook using any platform that you are comfortable with and do the following:\n",
    "\n",
    "    Write some markdown to explain that this notebook will be mainly used for the capstone project.\n",
    "    Import the pandas library as pd.\n",
    "    Import the Numpy library as np.\n",
    "    Print the following the statement: Hello Capstone Project Course!"
   ]
  },
  {
   "cell_type": "code",
   "execution_count": 2,
   "id": "171d7cc6",
   "metadata": {},
   "outputs": [],
   "source": [
    "# importing libraries\n",
    "import pandas as pd\n",
    "import numpy as np"
   ]
  },
  {
   "cell_type": "code",
   "execution_count": 3,
   "id": "6f602ca8",
   "metadata": {},
   "outputs": [
    {
     "name": "stdout",
     "output_type": "stream",
     "text": [
      "Hello Capstone Project Course!\n"
     ]
    }
   ],
   "source": [
    "#printing statement\n",
    "\n",
    "print(\"Hello Capstone Project Course!\")"
   ]
  },
  {
   "cell_type": "code",
   "execution_count": null,
   "id": "323d620f",
   "metadata": {},
   "outputs": [],
   "source": []
  },
  {
   "cell_type": "code",
   "execution_count": null,
   "id": "304d8498",
   "metadata": {},
   "outputs": [],
   "source": []
  }
 ],
 "metadata": {
  "kernelspec": {
   "display_name": "Python 3",
   "language": "python",
   "name": "python3"
  },
  "language_info": {
   "codemirror_mode": {
    "name": "ipython",
    "version": 3
   },
   "file_extension": ".py",
   "mimetype": "text/x-python",
   "name": "python",
   "nbconvert_exporter": "python",
   "pygments_lexer": "ipython3",
   "version": "3.8.8"
  }
 },
 "nbformat": 4,
 "nbformat_minor": 5
}
